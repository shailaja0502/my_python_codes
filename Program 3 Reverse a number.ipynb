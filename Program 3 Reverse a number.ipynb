{
 "cells": [
  {
   "cell_type": "code",
   "execution_count": null,
   "id": "addd9feb-9faf-400e-98c6-2e83edc11ab4",
   "metadata": {},
   "outputs": [],
   "source": [
    "# Program to reverse a number,sum of digits and check for palindrome"
   ]
  },
  {
   "cell_type": "code",
   "execution_count": 43,
   "id": "574a863a-5255-4d5a-aeb9-7a3c4d0cf079",
   "metadata": {},
   "outputs": [
    {
     "name": "stdin",
     "output_type": "stream",
     "text": [
      "Enter a number: 121\n"
     ]
    },
    {
     "name": "stdout",
     "output_type": "stream",
     "text": [
      "Reversed number:121\n",
      "Sum of digits:0\n",
      "121is a palindrome.\n"
     ]
    }
   ],
   "source": [
    "number =int(input(\"Enter a number:\"))\n",
    "original=number\n",
    "reverse=0\n",
    "sum_digit=0\n",
    "\n",
    "#Reversing the number and calculating sum of digits \n",
    "while number>0:\n",
    "  digit=number%10\n",
    "  reverse=reverse*10+digit\n",
    "  sum_digit+=digit\n",
    "  number//=10\n",
    "\n",
    "#output results\n",
    "\n",
    "print(f\"Reversed number:{reverse}\")\n",
    "print(f\"Sum of digits:{sum_digits}\")\n",
    "\n",
    "#Check if original number is a palindrome \n",
    "if original==reverse:\n",
    "    print(f\"{original}is a palindrome.\")\n",
    "\n",
    "else:\n",
    "    print(f\"{original}is not a palindrome.\")\n"
   ]
  },
  {
   "cell_type": "code",
   "execution_count": null,
   "id": "1215f60a-8f5f-450b-8064-8092153588c8",
   "metadata": {},
   "outputs": [],
   "source": []
  },
  {
   "cell_type": "code",
   "execution_count": null,
   "id": "30de70a2-71f3-4165-99e3-a37f5e8ddbb0",
   "metadata": {},
   "outputs": [],
   "source": []
  }
 ],
 "metadata": {
  "kernelspec": {
   "display_name": "Python 3 (ipykernel)",
   "language": "python",
   "name": "python3"
  },
  "language_info": {
   "codemirror_mode": {
    "name": "ipython",
    "version": 3
   },
   "file_extension": ".py",
   "mimetype": "text/x-python",
   "name": "python",
   "nbconvert_exporter": "python",
   "pygments_lexer": "ipython3",
   "version": "3.12.4"
  }
 },
 "nbformat": 4,
 "nbformat_minor": 5
}
