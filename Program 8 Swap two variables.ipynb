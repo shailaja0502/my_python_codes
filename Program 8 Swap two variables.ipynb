{
 "cells": [
  {
   "cell_type": "code",
   "execution_count": 3,
   "id": "8d47f78d-cabf-48f4-9848-c60a995842ae",
   "metadata": {},
   "outputs": [
    {
     "name": "stdin",
     "output_type": "stream",
     "text": [
      "Enter the first variable: 55\n",
      "Enter the second variable: 589\n"
     ]
    },
    {
     "name": "stdout",
     "output_type": "stream",
     "text": [
      "After swapping,first variable is:589\n",
      "After swapping,second variable is:55\n"
     ]
    }
   ],
   "source": [
    "#Program to swap two variables\n",
    "\n",
    "#Input:User is prompted to enter two variables\n",
    "var1=input(\"Enter the first variable:\")\n",
    "var2=input(\"Enter the second variable:\")\n",
    "\n",
    "#swap the variables\n",
    "var1,var2=var2,var1\n",
    "\n",
    "#outputthe result \n",
    "print(f\"After swapping,first variable is:{var1}\")\n",
    "print(f\"After swapping,second variable is:{var2}\")\n",
    "\n",
    "#Expalination:\n",
    "#This program swaps the values of two variable using \n"
   ]
  },
  {
   "cell_type": "code",
   "execution_count": null,
   "id": "a5c3b0c5-9cf5-442d-abfd-29d6fddf3566",
   "metadata": {},
   "outputs": [],
   "source": []
  }
 ],
 "metadata": {
  "kernelspec": {
   "display_name": "Python 3 (ipykernel)",
   "language": "python",
   "name": "python3"
  },
  "language_info": {
   "codemirror_mode": {
    "name": "ipython",
    "version": 3
   },
   "file_extension": ".py",
   "mimetype": "text/x-python",
   "name": "python",
   "nbconvert_exporter": "python",
   "pygments_lexer": "ipython3",
   "version": "3.12.4"
  }
 },
 "nbformat": 4,
 "nbformat_minor": 5
}
