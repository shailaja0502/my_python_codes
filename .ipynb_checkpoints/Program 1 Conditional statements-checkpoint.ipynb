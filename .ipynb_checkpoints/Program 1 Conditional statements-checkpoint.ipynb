{
 "cells": [
  {
   "cell_type": "markdown",
   "id": "f5cf2cd3-7844-4538-99d1-d67f690d6fe2",
   "metadata": {},
   "source": [
    "## Coditional statements\n",
    "# 1) if statements\n",
    "# 2) if...else statements\n",
    "# 3) if...elif...else statements\n"
   ]
  },
  {
   "cell_type": "code",
   "execution_count": 7,
   "id": "563a7fdb-87d9-46d8-bf29-cea2582216ed",
   "metadata": {},
   "outputs": [],
   "source": [
    "# Lets start with if statements"
   ]
  },
  {
   "cell_type": "code",
   "execution_count": 9,
   "id": "c81ffaae-0236-42d3-8f69-eaa9ca3f26ac",
   "metadata": {},
   "outputs": [
    {
     "name": "stdout",
     "output_type": "stream",
     "text": [
      "our job is done\n"
     ]
    }
   ],
   "source": [
    "number=10\n",
    "if number>100:\n",
    "   print('following number is greater than 100:',number)\n",
    "print('our job is done')"
   ]
  },
  {
   "cell_type": "code",
   "execution_count": null,
   "id": "59faa23a-a39a-4caa-b687-2ac7b625fdbc",
   "metadata": {},
   "outputs": [],
   "source": []
  }
 ],
 "metadata": {
  "kernelspec": {
   "display_name": "Python 3 (ipykernel)",
   "language": "python",
   "name": "python3"
  },
  "language_info": {
   "codemirror_mode": {
    "name": "ipython",
    "version": 3
   },
   "file_extension": ".py",
   "mimetype": "text/x-python",
   "name": "python",
   "nbconvert_exporter": "python",
   "pygments_lexer": "ipython3",
   "version": "3.12.4"
  }
 },
 "nbformat": 4,
 "nbformat_minor": 5
}
