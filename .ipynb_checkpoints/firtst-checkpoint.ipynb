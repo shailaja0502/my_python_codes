{
 "cells": [
  {
   "cell_type": "code",
   "execution_count": 9,
   "id": "75a47a62-e4e0-4eff-b174-cbec7609fb9c",
   "metadata": {},
   "outputs": [],
   "source": [
    "message=\"Hello everyone welcome to python lab\""
   ]
  },
  {
   "cell_type": "code",
   "execution_count": 13,
   "id": "c3079edd-043b-4f0c-8751-c9df376ed96b",
   "metadata": {},
   "outputs": [
    {
     "name": "stdout",
     "output_type": "stream",
     "text": [
      "Hello everyone welcome to python lab\n"
     ]
    }
   ],
   "source": [
    "print(message)"
   ]
  },
  {
   "cell_type": "code",
   "execution_count": 15,
   "id": "7cba38eb-f1b3-4b4d-992f-4ea9fd962151",
   "metadata": {},
   "outputs": [
    {
     "data": {
      "text/plain": [
       "'HELLO EVERYONE WELCOME TO PYTHON LAB'"
      ]
     },
     "execution_count": 15,
     "metadata": {},
     "output_type": "execute_result"
    }
   ],
   "source": [
    "message.upper()"
   ]
  },
  {
   "cell_type": "code",
   "execution_count": 21,
   "id": "9837ebb9-da97-458c-b4e1-4c61540a5518",
   "metadata": {},
   "outputs": [
    {
     "data": {
      "text/plain": [
       "'hello everyone welcome to python lab'"
      ]
     },
     "execution_count": 21,
     "metadata": {},
     "output_type": "execute_result"
    }
   ],
   "source": [
    "message.lower()"
   ]
  },
  {
   "cell_type": "code",
   "execution_count": 23,
   "id": "0ae6b8c6-5f4a-463f-a7c6-891578f951c1",
   "metadata": {},
   "outputs": [
    {
     "data": {
      "text/plain": [
       "'Hello everyone welcome to python lab'"
      ]
     },
     "execution_count": 23,
     "metadata": {},
     "output_type": "execute_result"
    }
   ],
   "source": [
    "message.capitalize()"
   ]
  },
  {
   "cell_type": "code",
   "execution_count": 27,
   "id": "f7c74dcc-3a70-459c-85d7-0d637ca6a484",
   "metadata": {},
   "outputs": [
    {
     "data": {
      "text/plain": [
       "['Hello', 'everyone', 'welcome', 'to', 'python', 'lab']"
      ]
     },
     "execution_count": 27,
     "metadata": {},
     "output_type": "execute_result"
    }
   ],
   "source": [
    "message.split()"
   ]
  },
  {
   "cell_type": "code",
   "execution_count": 29,
   "id": "7419bf7a-6d36-435f-bc73-7c7015222d5d",
   "metadata": {},
   "outputs": [
    {
     "data": {
      "text/plain": [
       "False"
      ]
     },
     "execution_count": 29,
     "metadata": {},
     "output_type": "execute_result"
    }
   ],
   "source": [
    "message.isupper()"
   ]
  },
  {
   "cell_type": "code",
   "execution_count": 33,
   "id": "636d04fb-a09a-4789-9974-5933b4bd40fd",
   "metadata": {},
   "outputs": [
    {
     "data": {
      "text/plain": [
       "False"
      ]
     },
     "execution_count": 33,
     "metadata": {},
     "output_type": "execute_result"
    }
   ],
   "source": [
    "message.islower()"
   ]
  },
  {
   "cell_type": "code",
   "execution_count": 35,
   "id": "647a4d78-3636-4c5c-8686-a1153ea5cbb4",
   "metadata": {},
   "outputs": [
    {
     "data": {
      "text/plain": [
       "'Hello everyone welcome to python lab'"
      ]
     },
     "execution_count": 35,
     "metadata": {},
     "output_type": "execute_result"
    }
   ],
   "source": [
    "message"
   ]
  },
  {
   "cell_type": "code",
   "execution_count": 37,
   "id": "7c27ca45-29f3-45e6-a8af-e2573311a347",
   "metadata": {},
   "outputs": [
    {
     "data": {
      "text/plain": [
       "False"
      ]
     },
     "execution_count": 37,
     "metadata": {},
     "output_type": "execute_result"
    }
   ],
   "source": [
    "message.islower()"
   ]
  },
  {
   "cell_type": "code",
   "execution_count": 39,
   "id": "16166873-d60d-41ae-a12f-da63a2424674",
   "metadata": {},
   "outputs": [],
   "source": [
    "message1=message.upper()"
   ]
  },
  {
   "cell_type": "code",
   "execution_count": 42,
   "id": "ebdba456-6860-4ef8-b3b2-0529eac0a362",
   "metadata": {},
   "outputs": [
    {
     "data": {
      "text/plain": [
       "'HELLO EVERYONE WELCOME TO PYTHON LAB'"
      ]
     },
     "execution_count": 42,
     "metadata": {},
     "output_type": "execute_result"
    }
   ],
   "source": [
    "message1"
   ]
  },
  {
   "cell_type": "code",
   "execution_count": 46,
   "id": "65bbd516-c75c-4aaf-ac3a-bcc1e3887885",
   "metadata": {},
   "outputs": [
    {
     "data": {
      "text/plain": [
       "True"
      ]
     },
     "execution_count": 46,
     "metadata": {},
     "output_type": "execute_result"
    }
   ],
   "source": [
    "message1.isupper()"
   ]
  },
  {
   "cell_type": "code",
   "execution_count": 50,
   "id": "b0b903bd-8cd7-4117-8e7f-6259be09ff2a",
   "metadata": {},
   "outputs": [
    {
     "data": {
      "text/plain": [
       "'Hello everyone welcome to AI lab'"
      ]
     },
     "execution_count": 50,
     "metadata": {},
     "output_type": "execute_result"
    }
   ],
   "source": [
    "message.replace(\"python\",'AI')"
   ]
  },
  {
   "cell_type": "code",
   "execution_count": 52,
   "id": "4a8d7259-a0aa-4639-9d30-628860e0302e",
   "metadata": {},
   "outputs": [],
   "source": [
    "message3=('  Hello everyone  ')"
   ]
  },
  {
   "cell_type": "code",
   "execution_count": 54,
   "id": "b8047c96-fb27-4d5c-bc90-a199dfa7bd34",
   "metadata": {},
   "outputs": [
    {
     "data": {
      "text/plain": [
       "'  Hello everyone  '"
      ]
     },
     "execution_count": 54,
     "metadata": {},
     "output_type": "execute_result"
    }
   ],
   "source": [
    "message3"
   ]
  },
  {
   "cell_type": "code",
   "execution_count": 56,
   "id": "30fffc53-9d9a-4a25-bce8-3b71d2467acc",
   "metadata": {},
   "outputs": [
    {
     "data": {
      "text/plain": [
       "'Hello everyone'"
      ]
     },
     "execution_count": 56,
     "metadata": {},
     "output_type": "execute_result"
    }
   ],
   "source": [
    "message3.strip()"
   ]
  },
  {
   "cell_type": "code",
   "execution_count": 58,
   "id": "ea8399d2-4252-4322-9357-45dd0db99032",
   "metadata": {},
   "outputs": [
    {
     "data": {
      "text/plain": [
       "'  Hello everyone  '"
      ]
     },
     "execution_count": 58,
     "metadata": {},
     "output_type": "execute_result"
    }
   ],
   "source": [
    "message3"
   ]
  },
  {
   "cell_type": "code",
   "execution_count": 60,
   "id": "dc45dd2f-1174-497c-aa37-be1b1383e1fb",
   "metadata": {},
   "outputs": [
    {
     "data": {
      "text/plain": [
       "'  Hello everyone'"
      ]
     },
     "execution_count": 60,
     "metadata": {},
     "output_type": "execute_result"
    }
   ],
   "source": [
    "message3.rstrip()"
   ]
  },
  {
   "cell_type": "code",
   "execution_count": 62,
   "id": "b17b64fa-25b8-4cb1-987d-3a74a9fb92ab",
   "metadata": {},
   "outputs": [
    {
     "data": {
      "text/plain": [
       "'Hello everyone  '"
      ]
     },
     "execution_count": 62,
     "metadata": {},
     "output_type": "execute_result"
    }
   ],
   "source": [
    "message3.lstrip()"
   ]
  },
  {
   "cell_type": "code",
   "execution_count": 66,
   "id": "6cf1b0b5-473d-46fe-b10f-1d3da6c58caf",
   "metadata": {},
   "outputs": [
    {
     "data": {
      "text/plain": [
       "True"
      ]
     },
     "execution_count": 66,
     "metadata": {},
     "output_type": "execute_result"
    }
   ],
   "source": [
    "message.startswith(\"Hello\")"
   ]
  },
  {
   "cell_type": "code",
   "execution_count": null,
   "id": "0e10bcd7-6115-48fa-b2b6-2d66b44f6eed",
   "metadata": {},
   "outputs": [],
   "source": []
  }
 ],
 "metadata": {
  "kernelspec": {
   "display_name": "Python 3 (ipykernel)",
   "language": "python",
   "name": "python3"
  },
  "language_info": {
   "codemirror_mode": {
    "name": "ipython",
    "version": 3
   },
   "file_extension": ".py",
   "mimetype": "text/x-python",
   "name": "python",
   "nbconvert_exporter": "python",
   "pygments_lexer": "ipython3",
   "version": "3.12.4"
  }
 },
 "nbformat": 4,
 "nbformat_minor": 5
}
