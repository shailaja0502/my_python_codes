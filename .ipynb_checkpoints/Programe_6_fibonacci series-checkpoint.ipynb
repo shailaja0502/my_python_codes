{
 "cells": [
  {
   "cell_type": "code",
   "execution_count": 3,
   "id": "4a1c8407-16be-4b3d-be97-2791723f775a",
   "metadata": {},
   "outputs": [
    {
     "name": "stdin",
     "output_type": "stream",
     "text": [
      "Enter the number of terms: 10\n"
     ]
    },
    {
     "name": "stdout",
     "output_type": "stream",
     "text": [
      "Fibonacci series:\n",
      "0 1 1 2 "
     ]
    }
   ],
   "source": [
    "# Program to generate Fibonacci series up to 'n' terms\n",
    "\n",
    "n=int(input(\"Enter the number of terms:\"))\n",
    "n=4\n",
    "\n",
    "#Starting two numbers in the Fibonicc series\n",
    "a,b=0,1\n",
    "count=0\n",
    "\n",
    "#Generate the Fibonacci series \n",
    "print(\"Fibonacci series:\")\n",
    "while count<n:\n",
    "    print(a,end=\" \")\n",
    "    temp=a+b\n",
    "    a=b\n",
    "    b=temp\n",
    "    count+=1"
   ]
  },
  {
   "cell_type": "code",
   "execution_count": 1,
   "id": "9ec276ec-a410-438f-9c81-79b39d9fbd5a",
   "metadata": {},
   "outputs": [
    {
     "name": "stdin",
     "output_type": "stream",
     "text": [
      "Enter the number of terms: 20\n"
     ]
    },
    {
     "name": "stdout",
     "output_type": "stream",
     "text": [
      "Fibonacci series:\n",
      "0 3 3 6 9 "
     ]
    }
   ],
   "source": [
    "# Program to generate Fibonacci series up to 'n' terms\n",
    "\n",
    "n=int(input(\"Enter the number of terms:\"))\n",
    "n=9\n",
    "\n",
    "#Starting two numbers in the Fibonicc series\n",
    "a,b=0,3\n",
    "count=4\n",
    "\n",
    "#Generate the Fibonacci series \n",
    "print(\"Fibonacci series:\")\n",
    "while count<n:\n",
    "    print(a,end=\" \")\n",
    "    temp=a+b\n",
    "    a=b\n",
    "    b=temp\n",
    "    count+=1"
   ]
  },
  {
   "cell_type": "code",
   "execution_count": null,
   "id": "76d1d570-483e-4066-8f8c-bc26badf81e0",
   "metadata": {},
   "outputs": [],
   "source": []
  },
  {
   "cell_type": "code",
   "execution_count": null,
   "id": "6730be6f-8a68-4458-9bd2-a76b0a76d5fb",
   "metadata": {},
   "outputs": [],
   "source": []
  },
  {
   "cell_type": "code",
   "execution_count": null,
   "id": "b30b6937-dac5-4273-837a-befc46df3f91",
   "metadata": {},
   "outputs": [],
   "source": []
  }
 ],
 "metadata": {
  "kernelspec": {
   "display_name": "Python 3 (ipykernel)",
   "language": "python",
   "name": "python3"
  },
  "language_info": {
   "codemirror_mode": {
    "name": "ipython",
    "version": 3
   },
   "file_extension": ".py",
   "mimetype": "text/x-python",
   "name": "python",
   "nbconvert_exporter": "python",
   "pygments_lexer": "ipython3",
   "version": "3.12.4"
  }
 },
 "nbformat": 4,
 "nbformat_minor": 5
}
