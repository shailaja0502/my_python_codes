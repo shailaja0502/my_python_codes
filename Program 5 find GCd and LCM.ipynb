{
 "cells": [
  {
   "cell_type": "code",
   "execution_count": 1,
   "id": "806c9d88-c976-48fc-9707-79646a9006ad",
   "metadata": {},
   "outputs": [],
   "source": [
    "# Program to find GCD and LCM of two numbers "
   ]
  },
  {
   "cell_type": "code",
   "execution_count": 6,
   "id": "5d0ee56c-f345-4f6a-a96c-32aa6b313656",
   "metadata": {},
   "outputs": [
    {
     "name": "stdin",
     "output_type": "stream",
     "text": [
      "Enter first number 8\n",
      "Enter second number 6\n"
     ]
    },
    {
     "name": "stdout",
     "output_type": "stream",
     "text": [
      "GCD of 8and 6 is:6\n",
      "LCM of 8 and 6 is:8\n"
     ]
    }
   ],
   "source": [
    "def find_gcd(a,b):\n",
    "    while b:\n",
    "        a,b=b,a%b\n",
    "        return a\n",
    "\n",
    "# Input two numbers \n",
    "num1=int(input(\"Enter first number\"))\n",
    "num2=int(input(\"Enter second number\"))\n",
    "\n",
    "# Find GCD\n",
    "gcd=find_gcd(num1,num2)\n",
    "\n",
    "# Calculate LCM\n",
    "lcm=(num1*num2)//gcd\n",
    "\n",
    "#Output results\n",
    "print(f\"GCD of {num1}and {num2} is:{gcd}\")\n",
    "print(f\"LCM of {num1} and {num2} is:{lcm}\")"
   ]
  },
  {
   "cell_type": "code",
   "execution_count": null,
   "id": "0c5733ee-e04c-4666-8573-f358aaa1d40b",
   "metadata": {},
   "outputs": [],
   "source": []
  },
  {
   "cell_type": "code",
   "execution_count": null,
   "id": "01d31ed0-3e1b-4322-a101-8d6ee7807404",
   "metadata": {},
   "outputs": [],
   "source": []
  }
 ],
 "metadata": {
  "kernelspec": {
   "display_name": "Python 3 (ipykernel)",
   "language": "python",
   "name": "python3"
  },
  "language_info": {
   "codemirror_mode": {
    "name": "ipython",
    "version": 3
   },
   "file_extension": ".py",
   "mimetype": "text/x-python",
   "name": "python",
   "nbconvert_exporter": "python",
   "pygments_lexer": "ipython3",
   "version": "3.12.4"
  }
 },
 "nbformat": 4,
 "nbformat_minor": 5
}
