{
 "cells": [
  {
   "cell_type": "markdown",
   "id": "f5cf2cd3-7844-4538-99d1-d67f690d6fe2",
   "metadata": {},
   "source": [
    "## Coditional statements\n",
    "# 1) if statements\n",
    "# 2) if...else statements\n",
    "# 3) if...elif...else statements\n"
   ]
  },
  {
   "cell_type": "code",
   "execution_count": 7,
   "id": "563a7fdb-87d9-46d8-bf29-cea2582216ed",
   "metadata": {},
   "outputs": [],
   "source": [
    "# Lets start with if statements"
   ]
  },
  {
   "cell_type": "code",
   "execution_count": 9,
   "id": "c81ffaae-0236-42d3-8f69-eaa9ca3f26ac",
   "metadata": {},
   "outputs": [
    {
     "name": "stdout",
     "output_type": "stream",
     "text": [
      "our job is done\n"
     ]
    }
   ],
   "source": [
    "number=10\n",
    "if number>100:\n",
    "   print('following number is greater than 100:',number)\n",
    "print('our job is done')"
   ]
  },
  {
   "cell_type": "code",
   "execution_count": 21,
   "id": "fae68f67-12d9-40d2-9297-8fc050c1e688",
   "metadata": {},
   "outputs": [
    {
     "name": "stdout",
     "output_type": "stream",
     "text": [
      "our job is done\n"
     ]
    }
   ],
   "source": [
    "number=110\n",
    "if number>110:\n",
    "   print('following number id greater than 100:',number)\n",
    "print('our job is done')"
   ]
  },
  {
   "cell_type": "markdown",
   "id": "2610579d-4c41-4eb1-94e8-f8ea17bd1256",
   "metadata": {},
   "source": [
    "## first program - to check if the number is positive or not "
   ]
  },
  {
   "cell_type": "code",
   "execution_count": 25,
   "id": "e60a885d-b3f7-459d-8b0e-1fd43fec25be",
   "metadata": {},
   "outputs": [
    {
     "name": "stdout",
     "output_type": "stream",
     "text": [
      " the given number is a positive number\n"
     ]
    }
   ],
   "source": [
    "number=112 #it will check this \n",
    "if number>0:\n",
    "    print(' the given number is a positive number')"
   ]
  },
  {
   "cell_type": "code",
   "execution_count": 27,
   "id": "efffce11-2b9b-40cf-b681-d15aa3ce17c1",
   "metadata": {},
   "outputs": [
    {
     "name": "stdin",
     "output_type": "stream",
     "text": [
      "give me a random number 40\n"
     ]
    }
   ],
   "source": [
    "#input function\n",
    "number=int(input('give me a random number'))"
   ]
  },
  {
   "cell_type": "code",
   "execution_count": 29,
   "id": "b8678ebd-6233-4b9b-8a4c-7c873b0b99a9",
   "metadata": {},
   "outputs": [
    {
     "data": {
      "text/plain": [
       "int"
      ]
     },
     "execution_count": 29,
     "metadata": {},
     "output_type": "execute_result"
    }
   ],
   "source": [
    "type(number) "
   ]
  },
  {
   "cell_type": "code",
   "execution_count": 31,
   "id": "cb23488f-2098-4456-9ee8-4b842c65a23b",
   "metadata": {},
   "outputs": [
    {
     "data": {
      "text/plain": [
       "float"
      ]
     },
     "execution_count": 31,
     "metadata": {},
     "output_type": "execute_result"
    }
   ],
   "source": [
    "number2=45.45\n",
    "type(number2)"
   ]
  },
  {
   "cell_type": "code",
   "execution_count": 37,
   "id": "df4243dc-5671-45c6-b015-c074b23a9111",
   "metadata": {},
   "outputs": [],
   "source": [
    "number3=int(number2)"
   ]
  },
  {
   "cell_type": "code",
   "execution_count": 39,
   "id": "60e73109-b1b2-4756-9991-911e7298ef70",
   "metadata": {},
   "outputs": [
    {
     "name": "stdout",
     "output_type": "stream",
     "text": [
      "45\n"
     ]
    },
    {
     "data": {
      "text/plain": [
       "int"
      ]
     },
     "execution_count": 39,
     "metadata": {},
     "output_type": "execute_result"
    }
   ],
   "source": [
    "print(number3)\n",
    "type(number3)"
   ]
  },
  {
   "cell_type": "code",
   "execution_count": 49,
   "id": "1a5b50d5-bdcc-43f2-8ab2-9285524d97d4",
   "metadata": {},
   "outputs": [
    {
     "name": "stdin",
     "output_type": "stream",
     "text": [
      "give me a random number,you have given num1= 621\n"
     ]
    },
    {
     "name": "stdout",
     "output_type": "stream",
     "text": [
      "num1 ia a positive number\n"
     ]
    }
   ],
   "source": [
    "num1=int(input('give me a random number,you have given num1='))\n",
    "if num1>0:\n",
    "    print('num1 ia a positive number')\n"
   ]
  },
  {
   "cell_type": "code",
   "execution_count": null,
   "id": "875e039e-5a0a-42b4-8311-d2fb339aef76",
   "metadata": {},
   "outputs": [],
   "source": []
  }
 ],
 "metadata": {
  "kernelspec": {
   "display_name": "Python 3 (ipykernel)",
   "language": "python",
   "name": "python3"
  },
  "language_info": {
   "codemirror_mode": {
    "name": "ipython",
    "version": 3
   },
   "file_extension": ".py",
   "mimetype": "text/x-python",
   "name": "python",
   "nbconvert_exporter": "python",
   "pygments_lexer": "ipython3",
   "version": "3.12.4"
  }
 },
 "nbformat": 4,
 "nbformat_minor": 5
}
