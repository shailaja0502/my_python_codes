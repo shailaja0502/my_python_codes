{
 "cells": [
  {
   "cell_type": "code",
   "execution_count": 1,
   "id": "6d95205f-b55a-4993-b03b-c6aa453a7a6a",
   "metadata": {},
   "outputs": [
    {
     "name": "stdout",
     "output_type": "stream",
     "text": [
      "Hello World\n"
     ]
    }
   ],
   "source": [
    "print(\"Hello World\")"
   ]
  },
  {
   "cell_type": "code",
   "execution_count": 3,
   "id": "0318b320-d20e-4cfc-a740-1e4db70d3b02",
   "metadata": {},
   "outputs": [],
   "source": [
    "list1=['Sagar','Ramesh','Ganesh','Sandip','Akansha','Madhuri']"
   ]
  },
  {
   "cell_type": "code",
   "execution_count": 5,
   "id": "7b0e86dd-507e-4c19-9293-f27dfb4d28a7",
   "metadata": {},
   "outputs": [],
   "source": [
    "list1.reverse()"
   ]
  },
  {
   "cell_type": "code",
   "execution_count": 7,
   "id": "0e9c6736-5a9b-4853-9412-26ff2d511f50",
   "metadata": {},
   "outputs": [
    {
     "data": {
      "text/plain": [
       "['Madhuri', 'Akansha', 'Sandip', 'Ganesh', 'Ramesh', 'Sagar']"
      ]
     },
     "execution_count": 7,
     "metadata": {},
     "output_type": "execute_result"
    }
   ],
   "source": [
    "list1"
   ]
  },
  {
   "cell_type": "code",
   "execution_count": 9,
   "id": "b6f5300e-f6bd-474a-9737-3c8cf7fb4bd9",
   "metadata": {},
   "outputs": [
    {
     "data": {
      "text/plain": [
       "1"
      ]
     },
     "execution_count": 9,
     "metadata": {},
     "output_type": "execute_result"
    }
   ],
   "source": [
    "list1.count('Sagar')"
   ]
  },
  {
   "cell_type": "code",
   "execution_count": 11,
   "id": "d976fcd6-d75b-45f0-9457-c170b5b1e2f4",
   "metadata": {},
   "outputs": [],
   "source": [
    "list1.append('Sandip')"
   ]
  },
  {
   "cell_type": "code",
   "execution_count": 13,
   "id": "cd3ff705-1afe-4147-a09a-75d30c2eb43a",
   "metadata": {},
   "outputs": [
    {
     "data": {
      "text/plain": [
       "['Madhuri', 'Akansha', 'Sandip', 'Ganesh', 'Ramesh', 'Sagar', 'Sandip']"
      ]
     },
     "execution_count": 13,
     "metadata": {},
     "output_type": "execute_result"
    }
   ],
   "source": [
    "list1"
   ]
  },
  {
   "cell_type": "code",
   "execution_count": 15,
   "id": "270eea28-4f68-4fca-b21d-a42a236e0323",
   "metadata": {},
   "outputs": [
    {
     "data": {
      "text/plain": [
       "2"
      ]
     },
     "execution_count": 15,
     "metadata": {},
     "output_type": "execute_result"
    }
   ],
   "source": [
    "list1.count('Sandip')"
   ]
  },
  {
   "cell_type": "code",
   "execution_count": 17,
   "id": "ae0cc73c-2565-46a3-ae32-b0c96b6ef8d8",
   "metadata": {},
   "outputs": [
    {
     "data": {
      "text/plain": [
       "1"
      ]
     },
     "execution_count": 17,
     "metadata": {},
     "output_type": "execute_result"
    }
   ],
   "source": [
    "list1.index('Akansha')"
   ]
  },
  {
   "cell_type": "code",
   "execution_count": 19,
   "id": "7e274c3a-b926-4542-9f69-70ad7e498986",
   "metadata": {},
   "outputs": [],
   "source": [
    "list4=list1"
   ]
  },
  {
   "cell_type": "code",
   "execution_count": 21,
   "id": "8d78ccf6-efd9-4d55-9316-c1fc52a69693",
   "metadata": {},
   "outputs": [
    {
     "data": {
      "text/plain": [
       "['Madhuri', 'Akansha', 'Sandip', 'Ganesh', 'Ramesh', 'Sagar', 'Sandip']"
      ]
     },
     "execution_count": 21,
     "metadata": {},
     "output_type": "execute_result"
    }
   ],
   "source": [
    "list4"
   ]
  },
  {
   "cell_type": "code",
   "execution_count": 23,
   "id": "0bf41e2c-90dd-43d1-aa46-cbdd01ddfe12",
   "metadata": {},
   "outputs": [],
   "source": [
    "list5=list1.copy()"
   ]
  },
  {
   "cell_type": "code",
   "execution_count": 25,
   "id": "c80abd0f-8f08-4f6c-94ab-50d1d822cd95",
   "metadata": {},
   "outputs": [
    {
     "data": {
      "text/plain": [
       "['Madhuri', 'Akansha', 'Sandip', 'Ganesh', 'Ramesh', 'Sagar', 'Sandip']"
      ]
     },
     "execution_count": 25,
     "metadata": {},
     "output_type": "execute_result"
    }
   ],
   "source": [
    "list5"
   ]
  },
  {
   "cell_type": "code",
   "execution_count": 27,
   "id": "936960bf-c866-4770-a95a-fdd7958a4261",
   "metadata": {},
   "outputs": [],
   "source": [
    "list1.append('Prakash')"
   ]
  },
  {
   "cell_type": "code",
   "execution_count": 29,
   "id": "9887fe02-8759-4977-9cc8-776b49326e50",
   "metadata": {},
   "outputs": [
    {
     "data": {
      "text/plain": [
       "['Madhuri',\n",
       " 'Akansha',\n",
       " 'Sandip',\n",
       " 'Ganesh',\n",
       " 'Ramesh',\n",
       " 'Sagar',\n",
       " 'Sandip',\n",
       " 'Prakash']"
      ]
     },
     "execution_count": 29,
     "metadata": {},
     "output_type": "execute_result"
    }
   ],
   "source": [
    "list1"
   ]
  },
  {
   "cell_type": "code",
   "execution_count": 31,
   "id": "4ed483c2-ff7e-4ec6-af2b-bf15efd7fe08",
   "metadata": {},
   "outputs": [],
   "source": [
    "##clear"
   ]
  },
  {
   "cell_type": "code",
   "execution_count": 35,
   "id": "64fdf18b-92de-4987-81ad-5eab6b766346",
   "metadata": {},
   "outputs": [],
   "source": [
    "list1.clear()"
   ]
  },
  {
   "cell_type": "code",
   "execution_count": 37,
   "id": "aedd09e0-3c99-4081-8c4f-432eb9c947d1",
   "metadata": {},
   "outputs": [
    {
     "data": {
      "text/plain": [
       "[]"
      ]
     },
     "execution_count": 37,
     "metadata": {},
     "output_type": "execute_result"
    }
   ],
   "source": [
    "list1"
   ]
  },
  {
   "cell_type": "code",
   "execution_count": 39,
   "id": "a222b95d-a5a2-43bd-807b-de9e3dad337c",
   "metadata": {},
   "outputs": [],
   "source": [
    "list2=['Vinutha','Shailaja','Ananya','Prasanna']"
   ]
  },
  {
   "cell_type": "code",
   "execution_count": 43,
   "id": "319a5554-fe69-419f-b1e3-ea7591a4de65",
   "metadata": {},
   "outputs": [],
   "source": [
    "list2.reverse()"
   ]
  },
  {
   "cell_type": "code",
   "execution_count": 45,
   "id": "c0fb41a6-56d1-456e-94d0-2c113bfbc2de",
   "metadata": {},
   "outputs": [
    {
     "data": {
      "text/plain": [
       "['Prasanna', 'Ananya', 'Shailaja', 'Vinutha']"
      ]
     },
     "execution_count": 45,
     "metadata": {},
     "output_type": "execute_result"
    }
   ],
   "source": [
    "list2"
   ]
  },
  {
   "cell_type": "code",
   "execution_count": 49,
   "id": "2b9c9c09-1cad-4564-82b9-8ee7b0a3f8fd",
   "metadata": {},
   "outputs": [
    {
     "data": {
      "text/plain": [
       "0"
      ]
     },
     "execution_count": 49,
     "metadata": {},
     "output_type": "execute_result"
    }
   ],
   "source": [
    "list2.count('ananya')"
   ]
  },
  {
   "cell_type": "code",
   "execution_count": 52,
   "id": "b4057774-a1f0-4c4d-a2ab-063dc884e0f5",
   "metadata": {},
   "outputs": [
    {
     "data": {
      "text/plain": [
       "['Prasanna', 'Ananya', 'Shailaja', 'Vinutha']"
      ]
     },
     "execution_count": 52,
     "metadata": {},
     "output_type": "execute_result"
    }
   ],
   "source": [
    "list2"
   ]
  },
  {
   "cell_type": "code",
   "execution_count": 54,
   "id": "e8e6ea89-0149-45dd-b91b-2f1ac4b4880e",
   "metadata": {},
   "outputs": [],
   "source": [
    "list2.append('Vinutha')"
   ]
  },
  {
   "cell_type": "code",
   "execution_count": 56,
   "id": "39b68cf2-0283-4cee-aeab-4b5c9643fb85",
   "metadata": {},
   "outputs": [
    {
     "data": {
      "text/plain": [
       "['Prasanna', 'Ananya', 'Shailaja', 'Vinutha', 'Vinutha']"
      ]
     },
     "execution_count": 56,
     "metadata": {},
     "output_type": "execute_result"
    }
   ],
   "source": [
    "list2"
   ]
  },
  {
   "cell_type": "code",
   "execution_count": 62,
   "id": "6407906f-294c-4885-9ba6-065d5dfb06d2",
   "metadata": {},
   "outputs": [
    {
     "data": {
      "text/plain": [
       "0"
      ]
     },
     "execution_count": 62,
     "metadata": {},
     "output_type": "execute_result"
    }
   ],
   "source": [
    "list2.index('Prasanna')"
   ]
  },
  {
   "cell_type": "code",
   "execution_count": 82,
   "id": "d7081c5e-9202-4ce8-8fa8-36543fe1191e",
   "metadata": {},
   "outputs": [
    {
     "data": {
      "text/plain": [
       "['Anjali', 'Anjali']"
      ]
     },
     "execution_count": 82,
     "metadata": {},
     "output_type": "execute_result"
    }
   ],
   "source": [
    "list2"
   ]
  },
  {
   "cell_type": "code",
   "execution_count": 78,
   "id": "a9c85d98-a5fe-43a4-925c-ea934b55ac34",
   "metadata": {},
   "outputs": [],
   "source": [
    "list2.insert(2,'Anjali')"
   ]
  },
  {
   "cell_type": "code",
   "execution_count": 80,
   "id": "36ae87b1-05fe-4ffa-aeb0-da82e61641de",
   "metadata": {},
   "outputs": [
    {
     "data": {
      "text/plain": [
       "['Anjali', 'Anjali']"
      ]
     },
     "execution_count": 80,
     "metadata": {},
     "output_type": "execute_result"
    }
   ],
   "source": [
    "list2"
   ]
  },
  {
   "cell_type": "code",
   "execution_count": 84,
   "id": "bf683186-4018-480b-a1de-d1f29e28f3a7",
   "metadata": {},
   "outputs": [],
   "source": [
    "list2.clear()"
   ]
  },
  {
   "cell_type": "code",
   "execution_count": 86,
   "id": "454484b3-b347-4707-b525-2d431d2fffb0",
   "metadata": {},
   "outputs": [
    {
     "data": {
      "text/plain": [
       "[]"
      ]
     },
     "execution_count": 86,
     "metadata": {},
     "output_type": "execute_result"
    }
   ],
   "source": [
    "list2"
   ]
  },
  {
   "cell_type": "code",
   "execution_count": null,
   "id": "fe9f170e-30ca-4d70-a941-9516d5eabc53",
   "metadata": {},
   "outputs": [],
   "source": []
  }
 ],
 "metadata": {
  "kernelspec": {
   "display_name": "Python 3 (ipykernel)",
   "language": "python",
   "name": "python3"
  },
  "language_info": {
   "codemirror_mode": {
    "name": "ipython",
    "version": 3
   },
   "file_extension": ".py",
   "mimetype": "text/x-python",
   "name": "python",
   "nbconvert_exporter": "python",
   "pygments_lexer": "ipython3",
   "version": "3.12.4"
  }
 },
 "nbformat": 4,
 "nbformat_minor": 5
}
