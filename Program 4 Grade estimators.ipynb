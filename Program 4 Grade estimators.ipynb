{
 "cells": [
  {
   "cell_type": "markdown",
   "id": "02a82292-1b03-4e56-80d0-dd58e8f86a95",
   "metadata": {},
   "source": [
    "## Grade estimators"
   ]
  },
  {
   "cell_type": "code",
   "execution_count": 6,
   "id": "7a7d14c7-6dc6-445d-aba7-54da6382ce0d",
   "metadata": {},
   "outputs": [
    {
     "name": "stdin",
     "output_type": "stream",
     "text": [
      "Enter the marks 96\n"
     ]
    },
    {
     "name": "stdout",
     "output_type": "stream",
     "text": [
      "you got O grade\n"
     ]
    }
   ],
   "source": [
    " marks=int(input('Enter the marks'))\n",
    "\n",
    "if marks>=90:\n",
    "    print('you got O grade')\n",
    "\n",
    "elif 75<=marks>=90:\n",
    "    print('you got A grade')\n",
    "\n",
    "elif 60<=marks>=75:\n",
    "    print('you got B grade')\n",
    "\n",
    "elif 50<=marks>=60:\n",
    "    print('you got C grade')\n",
    "\n",
    "else:\n",
    "    ('you are fail in the exam')\n",
    "     "
   ]
  },
  {
   "cell_type": "code",
   "execution_count": null,
   "id": "1cbba9f4-f394-48e2-b231-51331efa1184",
   "metadata": {},
   "outputs": [],
   "source": []
  }
 ],
 "metadata": {
  "kernelspec": {
   "display_name": "Python 3 (ipykernel)",
   "language": "python",
   "name": "python3"
  },
  "language_info": {
   "codemirror_mode": {
    "name": "ipython",
    "version": 3
   },
   "file_extension": ".py",
   "mimetype": "text/x-python",
   "name": "python",
   "nbconvert_exporter": "python",
   "pygments_lexer": "ipython3",
   "version": "3.12.4"
  }
 },
 "nbformat": 4,
 "nbformat_minor": 5
}
