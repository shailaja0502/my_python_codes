{
 "cells": [
  {
   "cell_type": "code",
   "execution_count": 17,
   "id": "6464592b-ae22-4d48-b1a0-0c3016cf52e0",
   "metadata": {},
   "outputs": [
    {
     "name": "stdin",
     "output_type": "stream",
     "text": [
      "Enter a number: 7\n"
     ]
    },
    {
     "name": "stdout",
     "output_type": "stream",
     "text": [
      "7is a prime number.\n"
     ]
    }
   ],
   "source": [
    "# Program to check whether a number is prime \n",
    "\n",
    "number=int(input(\"Enter a number:\"))\n",
    "is_prime=True\n",
    "\n",
    "#Check for prime by driving the number by every number less than it \n",
    "\n",
    "if number>1:\n",
    "    for i in range (2,number):\n",
    "      if number%i==0:\n",
    "       is_prime=False\n",
    "         \n",
    "else:\n",
    "    is_prime=False\n",
    "    #output result\n",
    "if is_prime:\n",
    "    print(f\"{number}is a prime number.\")\n",
    "\n",
    "else:\n",
    "    print (f\"{number}is not a prime number.\")"
   ]
  },
  {
   "cell_type": "code",
   "execution_count": 19,
   "id": "e669a96f-d03b-49e7-afaa-58805441459d",
   "metadata": {},
   "outputs": [
    {
     "name": "stdin",
     "output_type": "stream",
     "text": [
      "Enter a number: 91\n"
     ]
    },
    {
     "name": "stdout",
     "output_type": "stream",
     "text": [
      "91is a prime number.\n"
     ]
    }
   ],
   "source": [
    "# Program to check whether a number is prime \n",
    "\n",
    "number=int(input(\"Enter a number:\"))\n",
    "is_prime=True\n",
    "\n",
    "#Check for prime by driving the number by every number less than it \n",
    "\n",
    "if number>1:\n",
    "    for i in range (2,21):\n",
    "      if number%2==0:\n",
    "       is_prime=False\n",
    "         \n",
    "else:\n",
    "    is_prime=False\n",
    "    #output result\n",
    "if is_prime:\n",
    "    print(f\"{number}is a prime number.\")\n",
    "\n",
    "else:\n",
    "    print (f\"{number}is not a prime number.\")"
   ]
  },
  {
   "cell_type": "code",
   "execution_count": null,
   "id": "49661e97-4188-4cd9-9ae2-2e0ff533ba16",
   "metadata": {},
   "outputs": [],
   "source": []
  }
 ],
 "metadata": {
  "kernelspec": {
   "display_name": "Python 3 (ipykernel)",
   "language": "python",
   "name": "python3"
  },
  "language_info": {
   "codemirror_mode": {
    "name": "ipython",
    "version": 3
   },
   "file_extension": ".py",
   "mimetype": "text/x-python",
   "name": "python",
   "nbconvert_exporter": "python",
   "pygments_lexer": "ipython3",
   "version": "3.12.4"
  }
 },
 "nbformat": 4,
 "nbformat_minor": 5
}
