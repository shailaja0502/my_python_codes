{
 "cells": [
  {
   "cell_type": "code",
   "execution_count": 1,
   "id": "fbcf2b38-6cf9-41f7-9758-b7bbbf5495a6",
   "metadata": {},
   "outputs": [],
   "source": [
    "# program to convert decimal number to binary "
   ]
  },
  {
   "cell_type": "code",
   "execution_count": 7,
   "id": "9d735d55-2bc1-4ea4-86a3-03fca85b568a",
   "metadata": {},
   "outputs": [
    {
     "name": "stdin",
     "output_type": "stream",
     "text": [
      "Enter a decimal number: 20\n"
     ]
    },
    {
     "name": "stdout",
     "output_type": "stream",
     "text": [
      " Binary equivalent:10100 \n"
     ]
    }
   ],
   "source": [
    "decimal=int(input(\"Enter a decimal number:\"))\n",
    "binary=\" \"\n",
    "\n",
    "# convert to binary using division\n",
    "while decimal>0:\n",
    "    binary=str(decimal%2)+binary\n",
    "    decimal//=2\n",
    "\n",
    "# Output te binary equivalent\n",
    "print(f\" Binary equivalent:{binary}\")"
   ]
  },
  {
   "cell_type": "code",
   "execution_count": null,
   "id": "7bbb8dc3-9630-4f5e-95bf-02b010dc9693",
   "metadata": {},
   "outputs": [],
   "source": []
  }
 ],
 "metadata": {
  "kernelspec": {
   "display_name": "Python 3 (ipykernel)",
   "language": "python",
   "name": "python3"
  },
  "language_info": {
   "codemirror_mode": {
    "name": "ipython",
    "version": 3
   },
   "file_extension": ".py",
   "mimetype": "text/x-python",
   "name": "python",
   "nbconvert_exporter": "python",
   "pygments_lexer": "ipython3",
   "version": "3.12.4"
  }
 },
 "nbformat": 4,
 "nbformat_minor": 5
}
